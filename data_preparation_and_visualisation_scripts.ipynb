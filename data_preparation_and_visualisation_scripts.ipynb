{
 "cells": [
  {
   "cell_type": "code",
   "execution_count": 4,
   "metadata": {},
   "outputs": [],
   "source": [
    "import os\n",
    "import time\n",
    "import pandas as pd\n",
    "import numpy as np\n",
    "import matplotlib.pyplot as plt\n",
    "import seaborn as sns\n",
    "\n",
    "\n",
    "\n",
    "from bs4 import BeautifulSoup\n",
    "import re\n",
    "\n",
    "import nltk\n",
    "from nltk.stem import WordNetLemmatizer\n",
    "from nltk.tokenize import sent_tokenize\n",
    "from nltk.corpus import stopwords\n",
    "stopwords = nltk.corpus.stopwords.words('english')\n",
    "\n",
    "import re\n",
    "import requests\n",
    "\n",
    "color_palettes = ['Accent', 'BrBG', 'CMRmap', 'CMRmap_r', 'Dark2', 'Dark2_r', 'GnBu_r', 'Greens', 'Greys', 'Greys_r', 'OrRd', 'OrRd_r', 'Oranges', 'Oranges_r', 'PRGn', 'PRGn_r', 'Paired', 'PuBuGn_r', 'PuRd', 'RdBu']\n",
    "# , , , Blues_r, , BrBG_r, BuGn, BuGn_r, BuPu, BuPu_r, CMRmap, CMRmap_r, Dark2, Dark2_r, GnBu, GnBu_r, Greens, Greens_r, Greys, Greys_r, OrRd, OrRd_r, Oranges, Oranges_r, PRGn, PRGn_r, Paired, Paired_r, Pastel1, Pastel1_r, Pastel2, Pastel2_r, PiYG, PiYG_r, PuBu, PuBuGn, PuBuGn_r, PuBu_r, PuOr, PuOr_r, PuRd, PuRd_r, Purples, Purples_r, RdBu, RdBu_r, RdGy, RdGy_r, RdPu, RdPu_r, RdYlBu, RdYlBu_r, RdYlGn, RdYlGn_r, Reds, Reds_r, Set1, Set1_r, Set2, Set2_r, Set3, Set3_r, Spectral, Spectral_r, Wistia, Wistia_r, YlGn, YlGnBu, YlGnBu_r, YlGn_r, YlOrBr, YlOrBr_r, YlOrRd, YlOrRd_r, afmhot, afmhot_r, autumn, autumn_r, binary, binary_r, bone, bone_r, brg, brg_r, bwr, bwr_r, cividis, cividis_r, cool, cool_r, coolwarm, coolwarm_r, copper, copper_r, cubehelix, cubehelix_r, flag, flag_r, gist_earth, gist_earth_r, gist_gray, gist_gray_r, gist_heat, gist_heat_r, gist_ncar, gist_ncar_r, gist_rainbow, gist_rainbow_r, gist_stern, gist_stern_r, gist_yarg, gist_yarg_r, gnuplot, gnuplot2, gnuplot2_r, gnuplot_r, gray, gray_r, hot, hot_r, hsv, hsv_r, icefire, icefire_r, inferno, inferno_r, jet, jet_r, magma, magma_r, mako, mako_r, nipy_spectral, nipy_spectral_r, ocean, ocean_r, pink, pink_r, plasma, plasma_r, prism, prism_r, rainbow, rainbow_r, rocket, rocket_r, seismic, seismic_r, spring, spring_r, summer, summer_r, tab10, tab10_r, tab20, tab20_r, tab20b, tab20b_r, tab20c, tab20c_r, terrain, terrain_r, twilight, twilight_r, twilight_shifted, twilight_shifted_r, viridis, viridis_r, vlag, vlag_r, winter, winter_r\n",
    "\n",
    "\n",
    "# Contains:\n",
    "# 1. Loading\n",
    "# 2. Transforming data for visualisations:\n",
    "# ---- a. One category, top words\n",
    "# ---- b. One word, all categories\n"
   ]
  },
  {
   "cell_type": "code",
   "execution_count": 5,
   "metadata": {},
   "outputs": [],
   "source": [
    "# 1. Loading data from multiple folders."
   ]
  },
  {
   "cell_type": "code",
   "execution_count": 8,
   "metadata": {},
   "outputs": [
    {
     "name": "stdout",
     "output_type": "stream",
     "text": [
      "Loading word counts CSV files into a dataframes:          \n",
      "------------------------------------------------\n",
      "Positive            : Positive.csv (12959 words).\n",
      "Behavioral genetics : Behavioral genetics.csv (25041 words).\n",
      "Cultural            : Cultural.csv (8038 words).\n",
      "Quantitative        : Quantitative.csv (16947 words).\n",
      "Developmental       : Developmental.csv (22574 words).\n",
      "Mathematical        : Mathematical.csv (12784 words).\n",
      "Biological          : Biological.csv (12350 words).\n",
      "Cross-cultural      : Cross-cultural.csv (8110 words).\n",
      "Experimental        : Experimental.csv (19789 words).\n",
      "Comperative         : Comperative.csv (13592 words).\n",
      "Social              : Social.csv (23470 words).\n",
      "Neuropsychology     : Neuropsychology.csv (12204 words).\n",
      "Cognitive           : Cognitive.csv (16075 words).\n",
      "Evolutionary        : Evolutionary.csv (24587 words).\n",
      "Personality         : Personality.csv (21456 words).\n",
      "Big Five            : Big Five.csv (16041 words).\n",
      "Cognitivism         : Cognitivism.csv (9796 words).\n",
      "Differential        : Differential.csv (9116 words).\n"
     ]
    },
    {
     "data": {
      "text/html": [
       "<div>\n",
       "<style scoped>\n",
       "    .dataframe tbody tr th:only-of-type {\n",
       "        vertical-align: middle;\n",
       "    }\n",
       "\n",
       "    .dataframe tbody tr th {\n",
       "        vertical-align: top;\n",
       "    }\n",
       "\n",
       "    .dataframe thead th {\n",
       "        text-align: right;\n",
       "    }\n",
       "</style>\n",
       "<table border=\"1\" class=\"dataframe\">\n",
       "  <thead>\n",
       "    <tr style=\"text-align: right;\">\n",
       "      <th></th>\n",
       "      <th>word</th>\n",
       "      <th>count</th>\n",
       "      <th>part_of_speach</th>\n",
       "    </tr>\n",
       "  </thead>\n",
       "  <tbody>\n",
       "    <tr>\n",
       "      <th>0</th>\n",
       "      <td>life</td>\n",
       "      <td>718</td>\n",
       "      <td>NOUN</td>\n",
       "    </tr>\n",
       "    <tr>\n",
       "      <th>1</th>\n",
       "      <td>one</td>\n",
       "      <td>621</td>\n",
       "      <td>NUM</td>\n",
       "    </tr>\n",
       "    <tr>\n",
       "      <th>2</th>\n",
       "      <td>study</td>\n",
       "      <td>579</td>\n",
       "      <td>NOUN</td>\n",
       "    </tr>\n",
       "    <tr>\n",
       "      <th>3</th>\n",
       "      <td>psychology</td>\n",
       "      <td>556</td>\n",
       "      <td>NOUN</td>\n",
       "    </tr>\n",
       "    <tr>\n",
       "      <th>4</th>\n",
       "      <td>also</td>\n",
       "      <td>539</td>\n",
       "      <td>ADV</td>\n",
       "    </tr>\n",
       "  </tbody>\n",
       "</table>\n",
       "</div>"
      ],
      "text/plain": [
       "         word  count part_of_speach\n",
       "0        life    718           NOUN\n",
       "1         one    621            NUM\n",
       "2       study    579           NOUN\n",
       "3  psychology    556           NOUN\n",
       "4        also    539            ADV"
      ]
     },
     "execution_count": 8,
     "metadata": {},
     "output_type": "execute_result"
    }
   ],
   "source": [
    "# Loads wcount csv files as a dict of dataframes (one per category).\n",
    "def csvs_to_dict_of_dfs():\n",
    "\n",
    "    print('Loading word counts CSV files into a dataframes:\\\n",
    "          \\n------------------------------------------------')\n",
    "\n",
    "    # Get data files_paths.\n",
    "    base_path = os.getcwd() + '/data/word_counts/'\n",
    "    csv_files = [f for f in os.listdir(base_path)]\n",
    "\n",
    "    # Iterate over csv_files [categories].\n",
    "    wcount_frames = {}\n",
    "    for f in csv_files:\n",
    "\n",
    "        # Open each csv file as a df.\n",
    "        csv_file_path = base_path + f\n",
    "        df = pd.read_csv(csv_file_path, encoding='utf-8')\n",
    "\n",
    "        # Load each df to all frames dict. \n",
    "        category_name = f.split('.')[0]\n",
    "        wcount_frames[category_name] = df\n",
    "\n",
    "        print('{:20}: {} ({} words).'.format(category_name, f, len(df)))\n",
    "        \n",
    "    return wcount_frames\n",
    "\n",
    "wcount_frames = csvs_to_dict_of_dfs()\n",
    "list(wcount_frames.values())[0].head(5)"
   ]
  },
  {
   "cell_type": "code",
   "execution_count": 7,
   "metadata": {},
   "outputs": [],
   "source": [
    "# 2. Data transformations for visualisation: One category, top words.\n"
   ]
  },
  {
   "cell_type": "code",
   "execution_count": 9,
   "metadata": {},
   "outputs": [
    {
     "name": "stdout",
     "output_type": "stream",
     "text": [
      "Output:\n",
      "- 18 frames of [30, 30, 30, 30, 30, 30, 30, 30, 30, 30, 30, 30, 30, 30, 30, 30, 30, 30] words.\n",
      "- 18 horizontal bar plots (first 3 below):\n"
     ]
    },
    {
     "data": {
      "image/png": "[encoded data removed]",
      "text/plain": [
       "<Figure size 432x288 with 1 Axes>"
      ]
     },
     "metadata": {},
     "output_type": "display_data"
    },
    {
     "data": {
      "image/png": "[encoded data removed]",
      "text/plain": [
       "<Figure size 432x288 with 1 Axes>"
      ]
     },
     "metadata": {},
     "output_type": "display_data"
    },
    {
     "data": {
      "image/png": "[encoded data removed]",
      "text/plain": [
       "<Figure size 432x288 with 1 Axes>"
      ]
     },
     "metadata": {},
     "output_type": "display_data"
    },
    {
     "data": {
      "text/plain": [
       "<Figure size 432x288 with 0 Axes>"
      ]
     },
     "metadata": {},
     "output_type": "display_data"
    },
    {
     "data": {
      "text/plain": [
       "<Figure size 432x288 with 0 Axes>"
      ]
     },
     "metadata": {},
     "output_type": "display_data"
    },
    {
     "data": {
      "text/plain": [
       "<Figure size 432x288 with 0 Axes>"
      ]
     },
     "metadata": {},
     "output_type": "display_data"
    }
   ],
   "source": [
    "# Takes a dict of frames (1 df/category) of words ordered by occurrence (starting from top),\n",
    "# returns a dict of frames of N samples of a pos kind ('ADJ' or 'NOUN' or 'VERB' etc)\n",
    "def get_N_most_occuring_words_of_a_kind(dict_of_frames, N, kind):\n",
    "    frames_out = {}\n",
    "    for i, k in enumerate(dict_of_frames.keys()):\n",
    "        df_raw = dict_of_frames[k]\n",
    "        df = df_raw[df_raw.part_of_speach == kind].iloc[:N,:]\n",
    "        \n",
    "        # Add_relative_percentage_word count statistic.\n",
    "        df['percent'] = np.round( df['count'] / len(df_raw)*100, 2)\n",
    "\n",
    "        frames_out[k] = df\n",
    "    \n",
    "    return frames_out\n",
    "\n",
    "def create_category_folder(name):\n",
    "    if not os.path.exists('plots'):\n",
    "        os.makedirs('plots')\n",
    "    if not os.path.exists('plots/' + name):\n",
    "        os.makedirs('plots/' + name)\n",
    "        \n",
    "def one_category_top_words_barplots(dict_of_frames, title_sufix):\n",
    "    figures = {}\n",
    "    for i, k in enumerate(dict_of_frames.keys()):\n",
    "        df = dict_of_frames[k]\n",
    "        category = k.split('.')[0]\n",
    "        title = category +  title_sufix # Word + sufix\n",
    "        \n",
    "        # Figure\n",
    "        figure = plt.figure()\n",
    "        plt.title(title)\n",
    "        sns.set_palette(color_palettes[i], 50, .5)\n",
    "\n",
    "        ax = sns.barplot(x=\"percent\", y=\"word\", data=df)\n",
    "        \n",
    "        # Save plot to file\n",
    "        save_dir = 'one_category_top_words'\n",
    "        create_category_folder(save_dir)\n",
    "         \n",
    "        save_path = os.path.join('plots', save_dir, str(i)+'_'+category)\n",
    "        figure.savefig(save_path)\n",
    "        \n",
    "        # Save plot to dict\n",
    "        figures[k] = figure\n",
    "       \n",
    "        plt.close()\n",
    "        \n",
    "    return figures\n",
    "\n",
    "dict_of_frames = get_N_most_occuring_words_of_a_kind(wcount_frames, 30, 'VERB')\n",
    "plots = one_category_top_words_barplots(dict_of_frames, ' Psychology top adjectives.')\n",
    "\n",
    "\n",
    "show_n_plots = 3\n",
    "print('Output:')\n",
    "print('- {} frames of {} words.'.format( len(list(dict_of_frames.keys())), [len(v) for v in dict_of_frames.values()]))\n",
    "print('- {} horizontal bar plots (first {} below):'.format(len(plots), show_n_plots))\n",
    "\n",
    "for i, f in enumerate(plots.keys()):\n",
    "    if i < show_n_plots:\n",
    "        plt.figure()\n",
    "        display(plots[f])"
   ]
  },
  {
   "cell_type": "code",
   "execution_count": null,
   "metadata": {},
   "outputs": [],
   "source": []
  },
  {
   "cell_type": "code",
   "execution_count": 6,
   "metadata": {},
   "outputs": [],
   "source": []
  },
  {
   "cell_type": "code",
   "execution_count": 7,
   "metadata": {},
   "outputs": [
    {
     "name": "stdout",
     "output_type": "stream",
     "text": [
      "Folder Cognitivism done, 5255 rows.\n",
      "Folder Big_Five done, 13229 rows.\n",
      "Folder Comperative done, 6748 rows.\n",
      "Folder Biological done, 6901 rows.\n",
      "Folder Evolutionary done, 25220 rows.\n",
      "Folder Mathematical done, 9213 rows.\n",
      "Folder Experimental done, 17777 rows.\n",
      "Folder Social done, 27420 rows.\n",
      "Folder Quantitative done, 12794 rows.\n",
      "Folder Cross-cultural done, 3617 rows.\n",
      "Folder Behavioral_genetics done, 23221 rows.\n",
      "Folder Personality done, 19029 rows.\n",
      "Folder Differential done, 6408 rows.\n",
      "Folder Cognitive done, 14498 rows.\n",
      "Folder Positive done, 7699 rows.\n",
      "Folder Cultural done, 4460 rows.\n",
      "Folder Neuropsychology done, 7239 rows.\n",
      "Folder Developmental done, 24490 rows.\n",
      "All data df done, shaoe (235218, 4).\n"
     ]
    }
   ],
   "source": [
    "stopwords = nltk.corpus.stopwords.words('english')\n",
    "WNL = WordNetLemmatizer()\n",
    "\n",
    "def remove_url(text):\n",
    "    return re.sub('https?://[A-Za-z0-9./]+','',text)\n",
    "def html_strip_praser(text):\n",
    "    return BeautifulSoup(text, \"html.parser\").get_text()\n",
    "def html_strip_lxml(text):\n",
    "    return BeautifulSoup(text, 'lxml').get_text()\n",
    "def remove_special_characters(text, preserve):\n",
    "    return re.sub(\"[^a-zA-Z{}]\".format(preserve), \" \", text)\n",
    "def lowercase_text(text):\n",
    "    return text.lower()\n",
    "def strip_inner_spaces(text):\n",
    "    return ' '.join([w.strip() for w in text.split()])\n",
    "def remove_stop_words(text):\n",
    "    return ' '.join([w for w in text.split() if not w in set(stopwords)])\n",
    "def lemmatize_words(text, WNL):\n",
    "    return ' '.join([WNL.lemmatize(word, pos='v') for word in text.split()])\n",
    "\n",
    "def word_counts_text_cleaner(text):\n",
    "    text = remove_url(text)\n",
    "    #text = html_strip_lxml(text)\n",
    "    text = remove_special_characters(text, preserve='-')\n",
    "    text = lowercase_text(text)\n",
    "    text = strip_inner_spaces(text)\n",
    "    text = remove_stop_words(text)\n",
    "    text = lemmatize_words(text, WNL)\n",
    "    return text\n",
    "\n",
    "# Load and concantate csv files by a category.\n",
    "\n",
    "base_path = os.getcwd() + '/data/'\n",
    "\n",
    "# Iterate over folders [categories].\n",
    "folder_names = [f for f in os.listdir(base_path)]\n",
    "topic_frames = []\n",
    "for fn in folder_names:\n",
    "    if not '.' in fn and not 'word_counts' in fn:\n",
    "        \n",
    "        # Iterate over csv files.\n",
    "        file_names = [f for f in os.listdir(base_path+fn)]\n",
    "        folder_frames = []\n",
    "        for file in file_names:\n",
    "            \n",
    "            # Open each csv file.\n",
    "            csv_file_path = base_path + fn + '/' + file\n",
    "            df = pd.read_csv(csv_file_path, encoding='utf-8')\n",
    "            folder_frames.append(df)\n",
    "            \n",
    "        # Concat csv files inside each of folders [categories].\n",
    "        df_category = pd.concat(folder_frames, axis=0)\n",
    "        topic_frames.append(df_category)\n",
    "        print('Folder {} done, {} rows.'.format(fn, len(df_category)))\n",
    "\n",
    "# Concat all csv fiels into one big dataframe of all categories.\n",
    "df_all = pd.concat(topic_frames, axis=0)\n",
    "print('All data df done, shaoe {}.'.format(df_all.shape))\n"
   ]
  },
  {
   "cell_type": "code",
   "execution_count": 10,
   "metadata": {},
   "outputs": [
    {
     "name": "stdout",
     "output_type": "stream",
     "text": [
      "Output:\n",
      "- list of 540 words (62 unique).\n",
      "- list of 18 categories with 30 words (2 parameters each).\n",
      "- list of 62 unique (word, share_percent).\n"
     ]
    }
   ],
   "source": [
    "\n",
    "# Returns ONE list of all words from all frames.\n",
    "def get_all_words_from_all_frames(dict_of_frames):\n",
    "    all_words = []\n",
    "    for i, k in enumerate(dict_of_frames.keys()):\n",
    "        df = dict_of_frames[k]\n",
    "        all_words.extend(df['word'].to_list() )\n",
    "    return all_words\n",
    "\n",
    "# Returns all words list with extra parameters: word + avg percentage (regardless of category).\n",
    "def get_all_words_from_all_frames_WITH_FEATURES(dict_of_frames):\n",
    "    all_words_F = []\n",
    "    for i, k in enumerate(dict_of_frames.keys()):\n",
    "        df = dict_of_frames[k]\n",
    "        all_words_F.append(zip(df['word'].to_list(), df['percent'].to_list() )  )\n",
    "    all_words_F = [list(z) for z in all_words_F]\n",
    "    return all_words_F\n",
    "\n",
    "# Returns ordered list of all words (by relative percentate) within ALL cagegories.\n",
    "def get_selected_words_param(all_words, all_words_F, all_words_uniq):\n",
    "    \n",
    "    all_words_dict = dict()\n",
    "    \n",
    "    # Add 2nd parameter \n",
    "    # ...\n",
    "    \n",
    "    # Dict of word : cumulative percentage in all categories.\n",
    "    for w in all_words_uniq:\n",
    "        all_words_dict[w] = (0)\n",
    "    for word_data in all_words_F:\n",
    "        for word, share_percent in word_data:\n",
    "            all_words_dict[word] += share_percent\n",
    "    \n",
    "    # Round results for easyier reading.\n",
    "    for word in all_words_dict:\n",
    "        all_words_dict[word] = np.round((all_words_dict[word]/n_categories), 2)\n",
    "\n",
    "    # Order results (descending).\n",
    "    def take_second(element):\n",
    "        return element[1]\n",
    "    all_words_dict = sorted(all_words_dict.items(), key=take_second)[::-1]\n",
    "\n",
    "    return all_words_dict\n",
    "\n",
    "selected_words = get_all_words_from_all_frames(dict_of_frames)\n",
    "selected_words_uniq = np.unique(selected_words)\n",
    "\n",
    "selected_words_F = get_all_words_from_all_frames_WITH_FEATURES(dict_of_frames)\n",
    "n_categories = len(selected_words_F)\n",
    "\n",
    "selected_words_param = get_selected_words_param(selected_words, selected_words_F, selected_words_uniq)\n",
    "\n",
    "print('Output:')\n",
    "print('- list of {} words ({} unique).'.format(len(selected_words), len(selected_words_uniq)))\n",
    "print('- list of {} categories with {} words ({} parameters each).'.format( n_categories, len(selected_words_F[0]), len(selected_words_F[0][0]) ))\n",
    "print('- list of {} unique (word, share_percent).'.format(len(selected_words_param)))"
   ]
  },
  {
   "cell_type": "code",
   "execution_count": 11,
   "metadata": {},
   "outputs": [
    {
     "name": "stdout",
     "output_type": "stream",
     "text": [
      "Output:\n",
      "- Dict of 62 keys \"word\" : [list of 18 category param values].\n",
      "\n",
      "may [2.24, 5.12, 2.33, 2.57, 6.9, 2.58, 1.91, 2.1, 3.7, 2.07, 6.53, 2.67, 4.29, 5.62, 3.83, 5.59, 2.22, 3.69]\n",
      "include [3.5, 4.69, 2.44, 4.76, 4.83, 3.64, 2.58, 2.22, 3.25, 3.0, 4.41, 3.12, 3.61, 4.91, 3.85, 4.27, 2.57, 3.21]\n",
      "make [1.98, 2.69, 2.67, 2.22, 3.46, 2.89, 2.26, 1.6, 2.96, 1.38, 5.03, 2.16, 3.07, 3.04, 2.62, 2.34, 1.68, 2.15]\n",
      "find [2.45, 3.33, 2.08, 1.28, 3.52, 1.85, 1.25, 1.8, 2.03, 1.81, 4.96, 1.76, 2.99, 3.44, 2.9, 4.58, 1.32, 2.2]\n"
     ]
    }
   ],
   "source": [
    "# Prepare data to visualisation. dict() = { 'word' : [param, param, param, etc.)], etc. }\n",
    "def prepare_data_for_visualisation(selected_words_param, selected_words_F):\n",
    "    selected_words_prepared = dict()\n",
    "    for word, p in selected_words_param:\n",
    "\n",
    "        word_data = []\n",
    "        for category in selected_words_F:\n",
    "            #print(category)\n",
    "            category_words = [c[0] for c in category]\n",
    "            if word in category_words:\n",
    "                perc = [w[1] for w in category if w[0] == word][0]\n",
    "                word_data.append(perc)\n",
    "            else:\n",
    "                word_data.append(0)\n",
    "        selected_words_prepared[str(word)] = word_data\n",
    "    return selected_words_prepared\n",
    "\n",
    "prepared_word_dict = prepare_data_for_visualisation(selected_words_param, selected_words_F)\n",
    "\n",
    "\n",
    "print('Output:')\n",
    "print('- Dict of {} keys \"word\" : [list of {} category param values].\\n'.format( len(prepared_word_dict), len(list(prepared_word_dict.values())[0]) ))\n",
    "for w,k in list(prepared_word_dict.items())[:4]:\n",
    "    print(w, k)"
   ]
  },
  {
   "cell_type": "code",
   "execution_count": 10,
   "metadata": {},
   "outputs": [
    {
     "name": "stdout",
     "output_type": "stream",
     "text": [
      "Output: \n",
      "- Shaping data into (62, 19) DataFrame for visualisation.\n"
     ]
    },
    {
     "data": {
      "text/html": [
       "<div>\n",
       "<style scoped>\n",
       "    .dataframe tbody tr th:only-of-type {\n",
       "        vertical-align: middle;\n",
       "    }\n",
       "\n",
       "    .dataframe tbody tr th {\n",
       "        vertical-align: top;\n",
       "    }\n",
       "\n",
       "    .dataframe thead th {\n",
       "        text-align: right;\n",
       "    }\n",
       "</style>\n",
       "<table border=\"1\" class=\"dataframe\">\n",
       "  <thead>\n",
       "    <tr style=\"text-align: right;\">\n",
       "      <th></th>\n",
       "      <th>word</th>\n",
       "      <th>Positive</th>\n",
       "      <th>Behavioral genetics</th>\n",
       "      <th>Cultural</th>\n",
       "      <th>Quantitative</th>\n",
       "      <th>Developmental</th>\n",
       "      <th>Mathematical</th>\n",
       "      <th>Biological</th>\n",
       "      <th>Cross-cultural</th>\n",
       "      <th>Experimental</th>\n",
       "      <th>Comperative</th>\n",
       "      <th>Social</th>\n",
       "      <th>Neuropsychology</th>\n",
       "      <th>Cognitive</th>\n",
       "      <th>Evolutionary</th>\n",
       "      <th>Personality</th>\n",
       "      <th>Big Five</th>\n",
       "      <th>Cognitivism</th>\n",
       "      <th>Differential</th>\n",
       "    </tr>\n",
       "  </thead>\n",
       "  <tbody>\n",
       "    <tr>\n",
       "      <th>0</th>\n",
       "      <td>may</td>\n",
       "      <td>2.24</td>\n",
       "      <td>5.12</td>\n",
       "      <td>2.33</td>\n",
       "      <td>2.57</td>\n",
       "      <td>6.90</td>\n",
       "      <td>2.58</td>\n",
       "      <td>1.91</td>\n",
       "      <td>2.10</td>\n",
       "      <td>3.70</td>\n",
       "      <td>2.07</td>\n",
       "      <td>6.53</td>\n",
       "      <td>2.67</td>\n",
       "      <td>4.29</td>\n",
       "      <td>5.62</td>\n",
       "      <td>3.83</td>\n",
       "      <td>5.59</td>\n",
       "      <td>2.22</td>\n",
       "      <td>3.69</td>\n",
       "    </tr>\n",
       "    <tr>\n",
       "      <th>1</th>\n",
       "      <td>include</td>\n",
       "      <td>3.50</td>\n",
       "      <td>4.69</td>\n",
       "      <td>2.44</td>\n",
       "      <td>4.76</td>\n",
       "      <td>4.83</td>\n",
       "      <td>3.64</td>\n",
       "      <td>2.58</td>\n",
       "      <td>2.22</td>\n",
       "      <td>3.25</td>\n",
       "      <td>3.00</td>\n",
       "      <td>4.41</td>\n",
       "      <td>3.12</td>\n",
       "      <td>3.61</td>\n",
       "      <td>4.91</td>\n",
       "      <td>3.85</td>\n",
       "      <td>4.27</td>\n",
       "      <td>2.57</td>\n",
       "      <td>3.21</td>\n",
       "    </tr>\n",
       "    <tr>\n",
       "      <th>2</th>\n",
       "      <td>make</td>\n",
       "      <td>1.98</td>\n",
       "      <td>2.69</td>\n",
       "      <td>2.67</td>\n",
       "      <td>2.22</td>\n",
       "      <td>3.46</td>\n",
       "      <td>2.89</td>\n",
       "      <td>2.26</td>\n",
       "      <td>1.60</td>\n",
       "      <td>2.96</td>\n",
       "      <td>1.38</td>\n",
       "      <td>5.03</td>\n",
       "      <td>2.16</td>\n",
       "      <td>3.07</td>\n",
       "      <td>3.04</td>\n",
       "      <td>2.62</td>\n",
       "      <td>2.34</td>\n",
       "      <td>1.68</td>\n",
       "      <td>2.15</td>\n",
       "    </tr>\n",
       "    <tr>\n",
       "      <th>3</th>\n",
       "      <td>find</td>\n",
       "      <td>2.45</td>\n",
       "      <td>3.33</td>\n",
       "      <td>2.08</td>\n",
       "      <td>1.28</td>\n",
       "      <td>3.52</td>\n",
       "      <td>1.85</td>\n",
       "      <td>1.25</td>\n",
       "      <td>1.80</td>\n",
       "      <td>2.03</td>\n",
       "      <td>1.81</td>\n",
       "      <td>4.96</td>\n",
       "      <td>1.76</td>\n",
       "      <td>2.99</td>\n",
       "      <td>3.44</td>\n",
       "      <td>2.90</td>\n",
       "      <td>4.58</td>\n",
       "      <td>1.32</td>\n",
       "      <td>2.20</td>\n",
       "    </tr>\n",
       "    <tr>\n",
       "      <th>4</th>\n",
       "      <td>learn</td>\n",
       "      <td>0.00</td>\n",
       "      <td>0.00</td>\n",
       "      <td>1.44</td>\n",
       "      <td>1.09</td>\n",
       "      <td>5.67</td>\n",
       "      <td>3.10</td>\n",
       "      <td>0.86</td>\n",
       "      <td>0.90</td>\n",
       "      <td>3.16</td>\n",
       "      <td>1.46</td>\n",
       "      <td>1.83</td>\n",
       "      <td>1.36</td>\n",
       "      <td>4.09</td>\n",
       "      <td>2.17</td>\n",
       "      <td>2.42</td>\n",
       "      <td>1.92</td>\n",
       "      <td>4.13</td>\n",
       "      <td>2.65</td>\n",
       "    </tr>\n",
       "  </tbody>\n",
       "</table>\n",
       "</div>"
      ],
      "text/plain": [
       "      word  Positive  Behavioral genetics  Cultural  Quantitative  \\\n",
       "0      may      2.24                 5.12      2.33          2.57   \n",
       "1  include      3.50                 4.69      2.44          4.76   \n",
       "2     make      1.98                 2.69      2.67          2.22   \n",
       "3     find      2.45                 3.33      2.08          1.28   \n",
       "4    learn      0.00                 0.00      1.44          1.09   \n",
       "\n",
       "   Developmental  Mathematical  Biological  Cross-cultural  Experimental  \\\n",
       "0           6.90          2.58        1.91            2.10          3.70   \n",
       "1           4.83          3.64        2.58            2.22          3.25   \n",
       "2           3.46          2.89        2.26            1.60          2.96   \n",
       "3           3.52          1.85        1.25            1.80          2.03   \n",
       "4           5.67          3.10        0.86            0.90          3.16   \n",
       "\n",
       "   Comperative  Social  Neuropsychology  Cognitive  Evolutionary  Personality  \\\n",
       "0         2.07    6.53             2.67       4.29          5.62         3.83   \n",
       "1         3.00    4.41             3.12       3.61          4.91         3.85   \n",
       "2         1.38    5.03             2.16       3.07          3.04         2.62   \n",
       "3         1.81    4.96             1.76       2.99          3.44         2.90   \n",
       "4         1.46    1.83             1.36       4.09          2.17         2.42   \n",
       "\n",
       "   Big Five  Cognitivism  Differential  \n",
       "0      5.59         2.22          3.69  \n",
       "1      4.27         2.57          3.21  \n",
       "2      2.34         1.68          2.15  \n",
       "3      4.58         1.32          2.20  \n",
       "4      1.92         4.13          2.65  "
      ]
     },
     "metadata": {},
     "output_type": "display_data"
    }
   ],
   "source": [
    "def shape_frame_for_visualisation(prepared_word_dict, wcount_frames):\n",
    "    # Get dataframe in shape\n",
    "    df = pd.DataFrame(prepared_word_dict)\n",
    "    df = df.T\n",
    "    df.columns = wcount_frames.keys()\n",
    "    df['word'] = df.index\n",
    "    df.index = range(len(df))\n",
    "    df_words = df.iloc[:,-1]\n",
    "    df = pd.concat([df_words, df], axis=1).iloc[:,:-1]\n",
    "    #df = pd.concat( [, df.iloc[:,:-1]], axis=0)\n",
    "    return df\n",
    "\n",
    "shape_frame_for_visualisation = shape_frame_for_visualisation(prepared_word_dict,wcount_frames)\n",
    "\n",
    "print('Output: \\n- Shaping data into {} DataFrame for visualisation.'.format(shape_frame_for_visualisation.shape))\n",
    "display(shape_frame_for_visualisation.head(5))"
   ]
  },
  {
   "cell_type": "code",
   "execution_count": 11,
   "metadata": {},
   "outputs": [
    {
     "name": "stdout",
     "output_type": "stream",
     "text": [
      "Output:\n",
      "- Graphs of percentage usage of the word among psychology disciplines (based on wikipedia page + all it's links contents).\n"
     ]
    },
    {
     "data": {
      "image/png": "[encoded data removed]",
      "text/plain": [
       "<Figure size 432x288 with 1 Axes>"
      ]
     },
     "metadata": {},
     "output_type": "display_data"
    },
    {
     "data": {
      "image/png": "[encoded data removed]",
      "text/plain": [
       "<Figure size 432x288 with 1 Axes>"
      ]
     },
     "metadata": {},
     "output_type": "display_data"
    },
    {
     "data": {
      "image/png": "[encoded data removed]",
      "text/plain": [
       "<Figure size 432x288 with 1 Axes>"
      ]
     },
     "metadata": {},
     "output_type": "display_data"
    },
    {
     "data": {
      "text/plain": [
       "<Figure size 432x288 with 0 Axes>"
      ]
     },
     "metadata": {},
     "output_type": "display_data"
    },
    {
     "data": {
      "text/plain": [
       "<Figure size 432x288 with 0 Axes>"
      ]
     },
     "metadata": {},
     "output_type": "display_data"
    },
    {
     "data": {
      "text/plain": [
       "<Figure size 432x288 with 0 Axes>"
      ]
     },
     "metadata": {},
     "output_type": "display_data"
    }
   ],
   "source": [
    "def create_category_folder(name):\n",
    "    if not os.path.exists('plots'):\n",
    "        os.makedirs('plots')\n",
    "    if not os.path.exists('plots/' + name):\n",
    "        os.makedirs('plots/' + name)\n",
    "\n",
    "# Returns collection of one word - all categories relative occurences.\n",
    "def one_word_all_categories_barplots(df):\n",
    "    figures = {}\n",
    "    for i in range(len(df)):\n",
    "        \n",
    "        # reshape data\n",
    "        d = dict()\n",
    "        d['category'] = df.columns[1:]\n",
    "        d['percent'] = df.iloc[i,1:].values\n",
    "        plot_df = pd.DataFrame(d)\n",
    "\n",
    "        # settings\n",
    "        figure = plt.figure()\n",
    "        title_word = df.iloc[i,0].title()\n",
    "        title = \"{}. {}\".format(i+1, title_word)\n",
    "        plt.title(title)\n",
    "        sns.set_palette(color_palettes[0], 50, .5)\n",
    "\n",
    "        # plot\n",
    "        y = plot_df.category\n",
    "        x = plot_df.percent\n",
    "        ax = sns.barplot(y=y,x=x, data=plot_df)\n",
    "\n",
    "        # Save plot to file\n",
    "        save_dir = 'one_word_all_categories'\n",
    "        create_category_folder(save_dir)\n",
    "        save_path = os.path.join('plots', save_dir,  str(i)+'_'+title_word)\n",
    "        figure.savefig(save_path)\n",
    "        \n",
    "        # Save plot to dict\n",
    "        figures[title] = figure\n",
    "        \n",
    "        plt.close()\n",
    "\n",
    "    return figures\n",
    "\n",
    "\n",
    "plots2 = one_word_all_categories_barplots(shape_frame_for_visualisation)\n",
    "print('Output:')\n",
    "print(\"- Graphs of percentage usage of the word among psychology disciplines (based on wikipedia page + all it's links contents).\")\n",
    "show_n_plots = 3\n",
    "for i, f in enumerate(plots2.keys()):\n",
    "    if i < show_n_plots:\n",
    "        plt.figure()\n",
    "        display(plots2[f])"
   ]
  }
 ],
 "metadata": {
  "kernelspec": {
   "display_name": "Python 3",
   "language": "python",
   "name": "python3"
  },
  "language_info": {
   "codemirror_mode": {
    "name": "ipython",
    "version": 3
   },
   "file_extension": ".py",
   "mimetype": "text/x-python",
   "name": "python",
   "nbconvert_exporter": "python",
   "pygments_lexer": "ipython3",
   "version": "3.6.7"
  }
 },
 "nbformat": 4,
 "nbformat_minor": 2
}
